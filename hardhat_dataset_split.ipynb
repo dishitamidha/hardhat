{
 "cells": [
  {
   "cell_type": "code",
   "execution_count": null,
   "metadata": {
    "colab": {
     "base_uri": "https://localhost:8080/"
    },
    "id": "uzEHHY_5ihdT",
    "outputId": "fbcac4f9-edc8-4b2c-e119-b15ed43b21f8"
   },
   "outputs": [
    {
     "name": "stdout",
     "output_type": "stream",
     "text": [
      "Drive already mounted at /content/drive; to attempt to forcibly remount, call drive.mount(\"/content/drive\", force_remount=True).\n"
     ]
    }
   ],
   "source": [
    "from google.colab import drive\n",
    "drive.mount('/content/drive')"
   ]
  },
  {
   "cell_type": "code",
   "execution_count": null,
   "metadata": {
    "id": "qEHg9JUDipkv"
   },
   "outputs": [],
   "source": [
    "from sklearn.model_selection import train_test_split\n",
    "import os\n",
    "from pathlib import Path\n",
    "from shutil import copyfile\n",
    "import yaml"
   ]
  },
  {
   "cell_type": "code",
   "execution_count": null,
   "metadata": {
    "colab": {
     "base_uri": "https://localhost:8080/"
    },
    "id": "w1RfeRvvitvd",
    "outputId": "b9a193ca-ba12-473c-ae76-bec5519b2203"
   },
   "outputs": [
    {
     "name": "stdout",
     "output_type": "stream",
     "text": [
      "Train Set size: 4500\n",
      "Test Set size: 250\n",
      "Validation Set size: 250\n"
     ]
    }
   ],
   "source": [
    "images = os.listdir('/content/drive/MyDrive/HardHat_Dataset/images')\n",
    "# Splitting dataset according to 90-5-5 (train-val-test)\n",
    "train_set, val_set = train_test_split(images, test_size=0.0526, random_state=42)\n",
    "\n",
    "\n",
    "print(\"Train Set size: \" + str(len(train_set)))\n",
    "\n",
    "test_set = os.listdir('/content/drive/MyDrive/Hardhat_Test_Images/Images')\n",
    "\n",
    "print(\"Test Set size: \" + str(len(test_set)))\n",
    "\n",
    "print(\"Validation Set size: \" + str(len(val_set)))"
   ]
  },
  {
   "cell_type": "code",
   "execution_count": null,
   "metadata": {
    "id": "bu7GRmLMnhEF"
   },
   "outputs": [],
   "source": [
    "'''\n",
    "Function to copy images and their labels into train and val folders\n",
    "depedning on what set they belong to.\n",
    "\n",
    "Input: file set, images dir path, label dir path, mode = ['train', 'val']\n",
    "'''\n",
    "def make_directories(files, images_path, labels_path, mode):\n",
    "  root = Path(images_path + '/' + mode)\n",
    "\n",
    "  if not root.exists():\n",
    "    print(\"Path {} does not exist\".format(root))\n",
    "    os.makedirs(root)\n",
    "\n",
    "  root = Path(labels_path + '/' + mode)\n",
    "\n",
    "  if not root.exists():\n",
    "    print(\"Path {} does not exist\".format(root))\n",
    "    os.makedirs(root)\n",
    "\n",
    "  for fil in files:\n",
    "    img_name = fil.replace('.png', '')        \n",
    "    img_src_file = images_path + '/' + img_name + '.png'        \n",
    "    label_src_file = labels_path + '/' + img_name + '.txt'\n",
    "\n",
    "    DICT_DIR = '/content/drive/MyDrive/HardHat_Dataset/images/'  + mode\n",
    "    img_dict_file = DICT_DIR + '/' + img_name + '.png'\n",
    "\n",
    "    copyfile(img_src_file, img_dict_file)\n",
    "\n",
    "    DICT_DIR = '/content/drive/MyDrive/HardHat_Dataset/labels/' + mode\n",
    "    img_dict_file = DICT_DIR + '/' + img_name + '.txt'\n",
    "    copyfile(label_src_file, img_dict_file)\n",
    "\n",
    "\n"
   ]
  },
  {
   "cell_type": "code",
   "execution_count": null,
   "metadata": {
    "colab": {
     "base_uri": "https://localhost:8080/"
    },
    "id": "jI_dpTPnnhOI",
    "outputId": "35b7dc92-0ab1-4051-e64d-fe998c5fe6d8"
   },
   "outputs": [
    {
     "name": "stdout",
     "output_type": "stream",
     "text": [
      "Path /content/drive/MyDrive/HardHat_Dataset/images/train does not exist\n",
      "Path /content/drive/MyDrive/HardHat_Dataset/labels/train does not exist\n",
      "Path /content/drive/MyDrive/HardHat_Dataset/images/val does not exist\n",
      "Path /content/drive/MyDrive/HardHat_Dataset/labels/val does not exist\n"
     ]
    }
   ],
   "source": [
    "make_directories(train_set, '/content/drive/MyDrive/HardHat_Dataset/images/', '/content/drive/MyDrive/HardHat_Dataset/labels/', \"train\")\n",
    "make_directories(val_set,   '/content/drive/MyDrive/HardHat_Dataset/images/', '/content/drive/MyDrive/HardHat_Dataset/labels/', \"val\")"
   ]
  }
 ],
 "metadata": {
  "accelerator": "GPU",
  "colab": {
   "collapsed_sections": [],
   "provenance": []
  },
  "kernelspec": {
   "display_name": "Python 3 (ipykernel)",
   "language": "python",
   "name": "python3"
  },
  "language_info": {
   "codemirror_mode": {
    "name": "ipython",
    "version": 3
   },
   "file_extension": ".py",
   "mimetype": "text/x-python",
   "name": "python",
   "nbconvert_exporter": "python",
   "pygments_lexer": "ipython3",
   "version": "3.8.10"
  }
 },
 "nbformat": 4,
 "nbformat_minor": 1
}
